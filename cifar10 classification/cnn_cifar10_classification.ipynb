{
  "nbformat": 4,
  "nbformat_minor": 0,
  "metadata": {
    "colab": {
      "provenance": []
    },
    "kernelspec": {
      "name": "python3",
      "display_name": "Python 3"
    },
    "language_info": {
      "name": "python"
    },
    "accelerator": "TPU"
  },
  "cells": [
    {
      "cell_type": "code",
      "source": [
        "import tensorflow as tf\n",
        "from tensorflow.keras import datasets, layers, models\n",
        "import matplotlib.pyplot as plt\n",
        "import numpy as np\n",
        "from sklearn.metrics import confusion_matrix , classification_report\n"
      ],
      "metadata": {
        "id": "m8qSpVLpoYKS"
      },
      "execution_count": 1,
      "outputs": []
    },
    {
      "cell_type": "code",
      "source": [
        "(X_train, y_train), (X_test,y_test) = datasets.cifar10.load_data()\n",
        "X_train.shape"
      ],
      "metadata": {
        "colab": {
          "base_uri": "https://localhost:8080/"
        },
        "id": "I_JvsqcDoaWx",
        "outputId": "1fba8f04-f4c9-41b7-e4aa-2c06f6a757eb"
      },
      "execution_count": 2,
      "outputs": [
        {
          "output_type": "stream",
          "name": "stdout",
          "text": [
            "Downloading data from https://www.cs.toronto.edu/~kriz/cifar-10-python.tar.gz\n",
            "170500096/170498071 [==============================] - 2s 0us/step\n",
            "170508288/170498071 [==============================] - 2s 0us/step\n"
          ]
        },
        {
          "output_type": "execute_result",
          "data": {
            "text/plain": [
              "(50000, 32, 32, 3)"
            ]
          },
          "metadata": {},
          "execution_count": 2
        }
      ]
    },
    {
      "cell_type": "code",
      "source": [
        "X_test.shape"
      ],
      "metadata": {
        "colab": {
          "base_uri": "https://localhost:8080/"
        },
        "id": "3u0bKPQtofrL",
        "outputId": "ccda0e92-0028-4210-c11f-24ee02b2b331"
      },
      "execution_count": 3,
      "outputs": [
        {
          "output_type": "execute_result",
          "data": {
            "text/plain": [
              "(10000, 32, 32, 3)"
            ]
          },
          "metadata": {},
          "execution_count": 3
        }
      ]
    },
    {
      "cell_type": "code",
      "source": [
        "y_train = y_train.reshape(-1,)\n",
        "y_train[:5]"
      ],
      "metadata": {
        "colab": {
          "base_uri": "https://localhost:8080/"
        },
        "id": "ebiJ4R0PogKW",
        "outputId": "c651c810-c65a-4b6f-8b1b-a6d1f7d3c305"
      },
      "execution_count": 4,
      "outputs": [
        {
          "output_type": "execute_result",
          "data": {
            "text/plain": [
              "array([6, 9, 9, 4, 1], dtype=uint8)"
            ]
          },
          "metadata": {},
          "execution_count": 4
        }
      ]
    },
    {
      "cell_type": "code",
      "source": [
        "y_test = y_test.reshape(-1,)"
      ],
      "metadata": {
        "id": "sQKOzvFpojdM"
      },
      "execution_count": 5,
      "outputs": []
    },
    {
      "cell_type": "code",
      "source": [
        "classes = [\"airplane\",\"automobile\",\"bird\",\"cat\",\"deer\",\"dog\",\"frog\",\"horse\",\"ship\",\"truck\"]"
      ],
      "metadata": {
        "id": "Y9ieWilsomLG"
      },
      "execution_count": 6,
      "outputs": []
    },
    {
      "cell_type": "code",
      "source": [
        "def plot_sample(X, y, index):\n",
        "    plt.figure(figsize = (15,2))\n",
        "    plt.imshow(X[index])\n",
        "    plt.xlabel(classes[y[index]])"
      ],
      "metadata": {
        "id": "5fVyPXr2ooqw"
      },
      "execution_count": 7,
      "outputs": []
    },
    {
      "cell_type": "code",
      "source": [
        "plot_sample(X_train, y_train, 9)"
      ],
      "metadata": {
        "colab": {
          "base_uri": "https://localhost:8080/",
          "height": 173
        },
        "id": "dijjzjrborBf",
        "outputId": "b58aaa2e-6ce0-4d40-f2c8-06c473e51462"
      },
      "execution_count": 10,
      "outputs": [
        {
          "output_type": "display_data",
          "data": {
            "text/plain": [
              "<Figure size 1080x144 with 1 Axes>"
            ],
            "image/png": "[encoded data removed]"
          },
          "metadata": {
            "needs_background": "light"
          }
        }
      ]
    },
    {
      "cell_type": "markdown",
      "source": [
        "**Normalizing the training data**"
      ],
      "metadata": {
        "id": "CfGGxEGZo9jy"
      }
    },
    {
      "cell_type": "code",
      "source": [
        "X_train = X_train / 255.0\n",
        "X_test = X_test / 255.0"
      ],
      "metadata": {
        "id": "fhlL4arnossK"
      },
      "execution_count": 11,
      "outputs": []
    },
    {
      "cell_type": "markdown",
      "source": [
        "**Build simple artificial neural network for image classification**"
      ],
      "metadata": {
        "id": "SFFXsl7io2tT"
      }
    },
    {
      "cell_type": "code",
      "source": [
        "ann = models.Sequential([\n",
        "        layers.Flatten(input_shape=(32,32,3)),\n",
        "        layers.Dense(3000, activation='relu'),\n",
        "        layers.Dense(1000, activation='relu'),\n",
        "        layers.Dense(10, activation='sigmoid')    \n",
        "    ])\n",
        "\n",
        "ann.compile(optimizer='SGD',\n",
        "              loss='sparse_categorical_crossentropy',\n",
        "              metrics=['accuracy'])\n",
        "\n",
        "ann.fit(X_train, y_train, epochs=5)"
      ],
      "metadata": {
        "colab": {
          "base_uri": "https://localhost:8080/"
        },
        "id": "Zp_nGSYMozNi",
        "outputId": "bf154a34-8d96-47e6-c5d4-167d86806abf"
      },
      "execution_count": 12,
      "outputs": [
        {
          "output_type": "stream",
          "name": "stdout",
          "text": [
            "Epoch 1/5\n",
            "1563/1563 [==============================] - 130s 82ms/step - loss: 1.8091 - accuracy: 0.3536\n",
            "Epoch 2/5\n",
            "1563/1563 [==============================] - 124s 80ms/step - loss: 1.6207 - accuracy: 0.4260\n",
            "Epoch 3/5\n",
            "1563/1563 [==============================] - 121s 77ms/step - loss: 1.5390 - accuracy: 0.4557\n",
            "Epoch 4/5\n",
            "1563/1563 [==============================] - 122s 78ms/step - loss: 1.4819 - accuracy: 0.4782\n",
            "Epoch 5/5\n",
            "1563/1563 [==============================] - 122s 78ms/step - loss: 1.4316 - accuracy: 0.4992\n"
          ]
        },
        {
          "output_type": "execute_result",
          "data": {
            "text/plain": [
              "<keras.callbacks.History at 0x7fe9aac23290>"
            ]
          },
          "metadata": {},
          "execution_count": 12
        }
      ]
    },
    {
      "cell_type": "code",
      "source": [
        "y_pred = ann.predict(X_test)\n",
        "y_pred_classes = [np.argmax(element) for element in y_pred]\n",
        "\n",
        "print(\"Classification Report: \\n\", classification_report(y_test, y_pred_classes))"
      ],
      "metadata": {
        "colab": {
          "base_uri": "https://localhost:8080/"
        },
        "id": "H_vTiH1fpC7u",
        "outputId": "0a0e5380-9af6-4b31-dbb1-8637781a6034"
      },
      "execution_count": 13,
      "outputs": [
        {
          "output_type": "stream",
          "name": "stdout",
          "text": [
            "Classification Report: \n",
            "               precision    recall  f1-score   support\n",
            "\n",
            "           0       0.51      0.62      0.56      1000\n",
            "           1       0.57      0.63      0.60      1000\n",
            "           2       0.40      0.30      0.35      1000\n",
            "           3       0.30      0.30      0.30      1000\n",
            "           4       0.62      0.21      0.32      1000\n",
            "           5       0.34      0.49      0.40      1000\n",
            "           6       0.57      0.46      0.51      1000\n",
            "           7       0.52      0.53      0.52      1000\n",
            "           8       0.71      0.47      0.56      1000\n",
            "           9       0.42      0.69      0.52      1000\n",
            "\n",
            "    accuracy                           0.47     10000\n",
            "   macro avg       0.50      0.47      0.46     10000\n",
            "weighted avg       0.50      0.47      0.46     10000\n",
            "\n"
          ]
        }
      ]
    },
    {
      "cell_type": "markdown",
      "source": [
        "**build a convolutional neural network to train our images**"
      ],
      "metadata": {
        "id": "E7v8IExurzK-"
      }
    },
    {
      "cell_type": "code",
      "source": [
        "cnn = models.Sequential([\n",
        "    layers.Conv2D(filters=32, kernel_size=(3, 3), activation='relu', input_shape=(32, 32, 3)),\n",
        "    layers.MaxPooling2D((2, 2)),\n",
        "    \n",
        "    layers.Conv2D(filters=64, kernel_size=(3, 3), activation='relu'),\n",
        "    layers.MaxPooling2D((2, 2)),\n",
        "    \n",
        "    layers.Flatten(),\n",
        "    layers.Dense(64, activation='relu'),\n",
        "    layers.Dense(10, activation='softmax')\n",
        "])\n",
        "\n",
        "cnn.compile(optimizer='adam',\n",
        "              loss='sparse_categorical_crossentropy',\n",
        "              metrics=['accuracy'])\n"
      ],
      "metadata": {
        "id": "eZdgf3x2rmfa"
      },
      "execution_count": 14,
      "outputs": []
    },
    {
      "cell_type": "code",
      "source": [
        "cnn.fit(X_train, y_train, epochs=10)"
      ],
      "metadata": {
        "colab": {
          "base_uri": "https://localhost:8080/"
        },
        "id": "zaFIGfB1r7Za",
        "outputId": "d219e96e-4d6d-4c66-a51e-0d4f1d157628"
      },
      "execution_count": 15,
      "outputs": [
        {
          "output_type": "stream",
          "name": "stdout",
          "text": [
            "Epoch 1/10\n",
            "1563/1563 [==============================] - 69s 44ms/step - loss: 1.4372 - accuracy: 0.4860\n",
            "Epoch 2/10\n",
            "1563/1563 [==============================] - 71s 45ms/step - loss: 1.0777 - accuracy: 0.6233\n",
            "Epoch 3/10\n",
            "1563/1563 [==============================] - 68s 44ms/step - loss: 0.9535 - accuracy: 0.6675\n",
            "Epoch 4/10\n",
            "1563/1563 [==============================] - 67s 43ms/step - loss: 0.8749 - accuracy: 0.6960\n",
            "Epoch 5/10\n",
            "1563/1563 [==============================] - 68s 43ms/step - loss: 0.8035 - accuracy: 0.7214\n",
            "Epoch 6/10\n",
            "1563/1563 [==============================] - 68s 43ms/step - loss: 0.7475 - accuracy: 0.7395\n",
            "Epoch 7/10\n",
            "1563/1563 [==============================] - 68s 43ms/step - loss: 0.6922 - accuracy: 0.7578\n",
            "Epoch 8/10\n",
            "1563/1563 [==============================] - 68s 43ms/step - loss: 0.6444 - accuracy: 0.7761\n",
            "Epoch 9/10\n",
            "1563/1563 [==============================] - 66s 42ms/step - loss: 0.6044 - accuracy: 0.7888\n",
            "Epoch 10/10\n",
            "1563/1563 [==============================] - 67s 43ms/step - loss: 0.5604 - accuracy: 0.8037\n"
          ]
        },
        {
          "output_type": "execute_result",
          "data": {
            "text/plain": [
              "<keras.callbacks.History at 0x7fe9a819b050>"
            ]
          },
          "metadata": {},
          "execution_count": 15
        }
      ]
    },
    {
      "cell_type": "code",
      "source": [
        "cnn.evaluate(X_test,y_test)"
      ],
      "metadata": {
        "colab": {
          "base_uri": "https://localhost:8080/"
        },
        "id": "wcs-N3BNr-L-",
        "outputId": "0f6acba4-c0c5-40cd-ac35-6d36d7ebb92b"
      },
      "execution_count": 16,
      "outputs": [
        {
          "output_type": "stream",
          "name": "stdout",
          "text": [
            "313/313 [==============================] - 6s 17ms/step - loss: 0.9575 - accuracy: 0.6921\n"
          ]
        },
        {
          "output_type": "execute_result",
          "data": {
            "text/plain": [
              "[0.957533597946167, 0.6920999884605408]"
            ]
          },
          "metadata": {},
          "execution_count": 16
        }
      ]
    },
    {
      "cell_type": "code",
      "source": [
        "y_pred = cnn.predict(X_test)\n",
        "y_pred[:5]"
      ],
      "metadata": {
        "colab": {
          "base_uri": "https://localhost:8080/"
        },
        "id": "7v8MlHWWuxQF",
        "outputId": "d8537c41-c095-4f28-e844-2a29ac23cb02"
      },
      "execution_count": 17,
      "outputs": [
        {
          "output_type": "execute_result",
          "data": {
            "text/plain": [
              "array([[5.95513324e-04, 5.60388526e-06, 6.48259593e-05, 9.23518062e-01,\n",
              "        1.08162909e-04, 7.28228837e-02, 1.99051830e-03, 4.70255363e-05,\n",
              "        8.46862618e-04, 6.33367108e-07],\n",
              "       [4.32363449e-05, 1.62651334e-02, 2.00383017e-08, 3.63222938e-07,\n",
              "        1.74999570e-09, 1.03069431e-09, 3.03388892e-09, 3.10005598e-11,\n",
              "        9.83586073e-01, 1.05177154e-04],\n",
              "       [3.86047438e-02, 8.23431253e-01, 6.16139779e-03, 5.26066981e-02,\n",
              "        5.33940503e-03, 1.74308324e-03, 2.57520122e-03, 6.58279005e-03,\n",
              "        4.57935482e-02, 1.71618946e-02],\n",
              "       [3.21873486e-01, 1.20436391e-02, 6.12292951e-03, 3.09937857e-02,\n",
              "        1.37103768e-02, 1.87293204e-04, 4.24588536e-04, 2.54140887e-05,\n",
              "        6.14452064e-01, 1.66332960e-04],\n",
              "       [3.39165035e-06, 1.95937770e-04, 3.92195396e-02, 2.80090589e-02,\n",
              "        3.23790729e-01, 2.21571070e-03, 6.06546581e-01, 1.32952082e-05,\n",
              "        1.03032096e-06, 4.69616680e-06]], dtype=float32)"
            ]
          },
          "metadata": {},
          "execution_count": 17
        }
      ]
    },
    {
      "cell_type": "code",
      "source": [
        "y_classes = [np.argmax(element) for element in y_pred]\n",
        "y_classes[:10]"
      ],
      "metadata": {
        "colab": {
          "base_uri": "https://localhost:8080/"
        },
        "id": "SBv8w4Dru0Jr",
        "outputId": "fe63574d-e75e-435a-cc0c-b607aae20282"
      },
      "execution_count": 19,
      "outputs": [
        {
          "output_type": "execute_result",
          "data": {
            "text/plain": [
              "[3, 8, 1, 8, 6, 6, 1, 6, 3, 9]"
            ]
          },
          "metadata": {},
          "execution_count": 19
        }
      ]
    },
    {
      "cell_type": "code",
      "source": [
        "y_test[:10]"
      ],
      "metadata": {
        "colab": {
          "base_uri": "https://localhost:8080/"
        },
        "id": "18bGsfMtu309",
        "outputId": "193082bd-8db7-4abb-931a-62a4dc42cef3"
      },
      "execution_count": 20,
      "outputs": [
        {
          "output_type": "execute_result",
          "data": {
            "text/plain": [
              "array([3, 8, 8, 0, 6, 6, 1, 6, 3, 1], dtype=uint8)"
            ]
          },
          "metadata": {},
          "execution_count": 20
        }
      ]
    },
    {
      "cell_type": "code",
      "source": [],
      "metadata": {
        "id": "UFBPF103u9V3"
      },
      "execution_count": null,
      "outputs": []
    }
  ]
}